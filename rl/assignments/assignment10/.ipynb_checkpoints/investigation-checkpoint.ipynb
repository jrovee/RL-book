{
 "cells": [
  {
   "cell_type": "code",
   "execution_count": 1,
   "metadata": {},
   "outputs": [],
   "source": [
    "from optimal_MM import MarketMakerMDP\n",
    "import numpy as np\n",
    "from rl.distribution import Constant\n",
    "from rl.policy import DeterministicPolicy\n",
    "from rl.markov_process import NonTerminal"
   ]
  },
  {
   "cell_type": "code",
   "execution_count": 2,
   "metadata": {},
   "outputs": [],
   "source": [
    "mm_mdp = MarketMakerMDP()\n",
    "optimal_policy = mm_mdp.get_optimal_policy()\n",
    "start_states = Constant(NonTerminal((0,100,0,0)))\n",
    "traces_iter = mm_mdp.action_traces(start_states, optimal_policy)\n",
    "\n",
    "traces = []\n",
    "for _ in range(10000):\n",
    "    traces.append(next(traces_iter))\n"
   ]
  },
  {
   "cell_type": "code",
   "execution_count": 3,
   "metadata": {},
   "outputs": [
    {
     "name": "stdout",
     "output_type": "stream",
     "text": [
      "0\n",
      "1\n",
      "2\n",
      "3\n",
      "4\n",
      "5\n",
      "6\n",
      "7\n",
      "8\n",
      "9\n",
      "1.490770422751421\n"
     ]
    }
   ],
   "source": [
    "ba_spreads = []\n",
    "for i,trace in enumerate(traces):\n",
    "    if i % 1000 == 0:\n",
    "        print(i//1000)\n",
    "    for step in trace:\n",
    "        ba_spreads.append(step.action[1] - step.action[0])\n",
    "\n",
    "avg_spread = np.average(ba_spreads)\n",
    "print(avg_spread)"
   ]
  },
  {
   "cell_type": "code",
   "execution_count": 4,
   "metadata": {},
   "outputs": [],
   "source": [
    "def fixed_spread_pol_func(state):\n",
    "    return state[1] - avg_spread/2, state[1] + avg_spread/2\n",
    "fixed_spread_pol = DeterministicPolicy(fixed_spread_pol_func)\n",
    "\n",
    "fixed_spread_traces_iter = mm_mdp.action_traces(start_states,fixed_spread_pol)\n",
    "\n",
    "fixed_spread_traces = []\n",
    "while len(fixed_spread_traces) < 10000:\n",
    "    fixed_spread_traces.append(next(fixed_spread_traces_iter))"
   ]
  },
  {
   "cell_type": "code",
   "execution_count": 13,
   "metadata": {
    "scrolled": true
   },
   "outputs": [],
   "source": [
    "fixed_m2m_pnls = []\n",
    "opt_m2m_pnls = []\n",
    "for _ in range(1000):\n",
    "    fixed_trace = next(fixed_spread_traces_iter)\n",
    "    fixed_t, fixed_St, fixed_Wt, fixed_It = list(zip(*[step.state.state for step in fixed_trace]))\n",
    "    fixed_m2m_pnls.append([Wt +It*St for Wt, It, St in zip(fixed_Wt,fixed_It,fixed_St)])\n",
    "    \n",
    "    opt_trace = next(traces_iter)\n",
    "    opt_t, opt_St, opt_Wt, opt_It = list(zip(*[step.state.state for step in opt_trace]))\n",
    "    opt_m2m_pnls.append([Wt +It*St for Wt, It, St in zip(opt_Wt,opt_It,opt_St)])"
   ]
  },
  {
   "cell_type": "code",
   "execution_count": 14,
   "metadata": {},
   "outputs": [],
   "source": [
    "avg_fixed_m2m_pnl = np.mean(fixed_m2m_pnls,axis=0)\n",
    "avg_opt_m2m_pnl = np.mean(opt_m2m_pnls,axis=0)"
   ]
  },
  {
   "cell_type": "code",
   "execution_count": 9,
   "metadata": {},
   "outputs": [],
   "source": [
    "import matplotlib.pyplot as plt"
   ]
  },
  {
   "cell_type": "code",
   "execution_count": 15,
   "metadata": {},
   "outputs": [
    {
     "data": {
      "text/plain": [
       "[<matplotlib.lines.Line2D at 0x10d331780>]"
      ]
     },
     "execution_count": 15,
     "metadata": {},
     "output_type": "execute_result"
    },
    {
     "data": {
      "image/png": "[encoded data removed]",
      "text/plain": [
       "<Figure size 432x288 with 1 Axes>"
      ]
     },
     "metadata": {
      "needs_background": "light"
     },
     "output_type": "display_data"
    }
   ],
   "source": [
    "plt.plot(avg_fixed_m2m_pnl)\n",
    "plt.plot(avg_opt_m2m_pnl)"
   ]
  },
  {
   "cell_type": "code",
   "execution_count": null,
   "metadata": {},
   "outputs": [],
   "source": [
    "avg_fixed_m2m_pnl = np.stdev(fixed_m2m_pnls,axis=0)\n",
    "avg_opt_m2m_pnl = np.stdev(opt_m2m_pnls,axis=0)"
   ]
  },
  {
   "cell_type": "code",
   "execution_count": null,
   "metadata": {},
   "outputs": [],
   "source": [
    "plt.plot()"
   ]
  },
  {
   "cell_type": "code",
   "execution_count": null,
   "metadata": {},
   "outputs": [],
   "source": []
  }
 ],
 "metadata": {
  "kernelspec": {
   "display_name": "venv",
   "language": "python",
   "name": "venv"
  },
  "language_info": {
   "codemirror_mode": {
    "name": "ipython",
    "version": 3
   },
   "file_extension": ".py",
   "mimetype": "text/x-python",
   "name": "python",
   "nbconvert_exporter": "python",
   "pygments_lexer": "ipython3",
   "version": "3.7.3"
  }
 },
 "nbformat": 4,
 "nbformat_minor": 4
}
