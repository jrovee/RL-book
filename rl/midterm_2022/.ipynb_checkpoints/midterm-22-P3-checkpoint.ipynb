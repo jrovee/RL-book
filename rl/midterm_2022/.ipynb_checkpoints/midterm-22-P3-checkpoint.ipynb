{
 "cells": [
  {
   "cell_type": "code",
   "execution_count": 1,
   "metadata": {},
   "outputs": [],
   "source": [
    "from typing import Tuple, Mapping, Dict, Sequence\n",
    "from rl.markov_process import NonTerminal\n",
    "from rl.markov_decision_process import FiniteMarkovDecisionProcess\n",
    "from rl.dynamic_programming import value_iteration_result\n",
    "from rl.distribution import Categorical\n",
    "from scipy.stats import multinomial\n",
    "import numpy as np\n",
    "import itertools\n",
    "\n",
    "DiceGameState = Tuple[Sequence[int], int, int]\n",
    "DiceGameAction = Sequence[int]\n",
    "\n",
    "DiceGameTransitionsMap = Mapping[DiceGameState, Mapping[\n",
    "    DiceGameAction,\n",
    "    Categorical[Tuple[DiceGameState, float]]\n",
    "]]"
   ]
  },
  {
   "cell_type": "code",
   "execution_count": 2,
   "metadata": {},
   "outputs": [],
   "source": [
    "class DiceGame(FiniteMarkovDecisionProcess[DiceGameState, DiceGameAction]):\n",
    "    '''\n",
    "    This implementation of DiceGame was heavily based on the implementation of the\n",
    "    CareerOptimization from the 2021 midterm.\n",
    "    '''\n",
    "    def __init__(\n",
    "        self,\n",
    "        N: int,\n",
    "        K: int,\n",
    "        C: int\n",
    "    ):\n",
    "        self.N : int = N\n",
    "        self.K : int = K\n",
    "        self.C : int = C\n",
    "        self.nonTerminalTables : np.ndarray = self.get_nonTerminalTables(N, K)\n",
    "        self.TERMINAL : DiceGameState = ((0,)*K, 0, 0)\n",
    "        \n",
    "        super().__init__(self.get_transitions())\n",
    "    \n",
    "    def get_nonTerminalTables(self, N, K):\n",
    "        ''' Returns a numpy array whose rows are the non-terminal table configurations '''\n",
    "        Z_N_K = np.array(list(np.ndindex((N+1,)*K))) # All length-K lists whose elements are in (0,...,N)\n",
    "        nDice = np.sum(Z_N_K,axis=1)\n",
    "        return Z_N_K[(nDice <= N) & (nDice > 0)]\n",
    "    \n",
    "    def get_nDiceTables(self, n):\n",
    "        ''' Returns a numpy array whose rows are the (non-terminal) table configurations with exactly n dice'''\n",
    "        return self.nonTerminalTables[np.sum(self.nonTerminalTables,axis=1)==n]\n",
    "    \n",
    "    def get_transitions(self) -> DiceGameTransitionsMap:\n",
    "        d: Dict[DiceGameState, Mapping[DiceGameAction, Categorical[Tuple[DiceGameState, float]]]] = {}\n",
    "        \n",
    "        for initTable in self.nonTerminalTables:\n",
    "            n = sum(initTable)\n",
    "            for c in range(self.C+1):\n",
    "                for s in range(self.K*(self.N - n)+1):\n",
    "                    d1: Dict[DiceGameAction, Categorical[Tuple[DiceGameState, float]]] = {}\n",
    "                    \n",
    "                    # An action is a non-empty table configuration whose values don't exceed the current values\n",
    "                    actionList = self.nonTerminalTables[np.max(self.nonTerminalTables>initTable,axis=1)==0]\n",
    "                    \n",
    "                    for action in actionList:\n",
    "                        c_new = min(c + action[0],self.C)\n",
    "                        s_new = s + sum((i+1)*ai for i, ai in enumerate(action))\n",
    "                        n_new = n - sum(action)\n",
    "                        \n",
    "                        if n_new == 0:\n",
    "                            reward = (c_new==self.C) * s_new\n",
    "                            d1[tuple(action)] = Categorical({(self.TERMINAL, reward) : 1.0})\n",
    "                        else:\n",
    "                            rv = multinomial(n_new, (1/self.K,)*self.K)\n",
    "                            possible_new_tables = self.get_nDiceTables(n_new)\n",
    "                            \n",
    "                            reward = 0\n",
    "                            sr_probs = { ((tuple(table),c_new,s_new),reward) : rv.pmf(table) for table in possible_new_tables }\n",
    "                            d1[tuple(action)] = Categorical(sr_probs)\n",
    "                    d[(tuple(initTable), c, s)] = d1\n",
    "        return d"
   ]
  },
  {
   "cell_type": "code",
   "execution_count": 6,
   "metadata": {},
   "outputs": [],
   "source": [
    "dg = DiceGame(N=6,K=4,C=1)\n",
    "\n",
    "values, policy = value_iteration_result(dg,gamma=1)"
   ]
  },
  {
   "cell_type": "code",
   "execution_count": 4,
   "metadata": {
    "scrolled": true
   },
   "outputs": [
    {
     "name": "stdout",
     "output_type": "stream",
     "text": [
      "18.39039025377679\n"
     ]
    }
   ],
   "source": [
    "# Our expected score is the sum of p(S)*v(S) where p(S) is the probability of S being \n",
    "# the initial state, and v(S) is the optimal value function evaluated on S\n",
    "# In our case, the initial tables are distributed as a multinomial(n=N,p=(1/K,)*K), and \n",
    "# the initial values of s and c are both zero\n",
    "initialTables = dg.get_nDiceTables(N)\n",
    "initialProbabilities = [multinomial.pmf(table, n=N, p=(1/K,)*K) for table in initialTables]\n",
    "initialValues = [values[NonTerminal((tuple(table),0,0))] for table in initialTables]\n",
    "expectedScore = sum(p*v for p,v in zip(initialProbabilities, initialValues))\n",
    "print(expectedScore)"
   ]
  },
  {
   "cell_type": "code",
   "execution_count": 5,
   "metadata": {},
   "outputs": [
    {
     "data": {
      "text/plain": [
       "(0, 0, 0, 1)"
      ]
     },
     "execution_count": 5,
     "metadata": {},
     "output_type": "execute_result"
    }
   ],
   "source": [
    "# A starting roll of {1,2,2,3,3,4} is encoded in our state space as ((1,2,2,1), c=0, s=0)\n",
    "policy.action_for[((1,2,2,1),0,0)]"
   ]
  },
  {
   "cell_type": "code",
   "execution_count": null,
   "metadata": {},
   "outputs": [],
   "source": []
  }
 ],
 "metadata": {
  "kernelspec": {
   "display_name": "venv",
   "language": "python",
   "name": "venv"
  },
  "language_info": {
   "codemirror_mode": {
    "name": "ipython",
    "version": 3
   },
   "file_extension": ".py",
   "mimetype": "text/x-python",
   "name": "python",
   "nbconvert_exporter": "python",
   "pygments_lexer": "ipython3",
   "version": "3.7.3"
  }
 },
 "nbformat": 4,
 "nbformat_minor": 4
}
